{
  "nbformat": 4,
  "nbformat_minor": 0,
  "metadata": {
    "colab": {
      "provenance": [],
      "authorship_tag": "ABX9TyNiyE2UL3LmIAFUJfjmgZUe",
      "include_colab_link": true
    },
    "kernelspec": {
      "name": "python3",
      "display_name": "Python 3"
    },
    "language_info": {
      "name": "python"
    }
  },
  "cells": [
    {
      "cell_type": "markdown",
      "metadata": {
        "id": "view-in-github",
        "colab_type": "text"
      },
      "source": [
        "<a href=\"https://colab.research.google.com/github/gabrielbsandim/care-my-plants/blob/main/CareMyPlant.ipynb\" target=\"_parent\"><img src=\"https://colab.research.google.com/assets/colab-badge.svg\" alt=\"Open In Colab\"/></a>"
      ]
    },
    {
      "cell_type": "markdown",
      "source": [
        "**Run this first step to set up Google Drive.**\n",
        "\n"
      ],
      "metadata": {
        "id": "XfoXtoDQCe4Q"
      }
    },
    {
      "cell_type": "code",
      "source": [
        "from google.colab import drive\n",
        "\n",
        "drive.mount('/content/gdrive')"
      ],
      "metadata": {
        "id": "oKMA5eEqZnep"
      },
      "execution_count": null,
      "outputs": []
    },
    {
      "cell_type": "code",
      "source": [
        "import google.generativeai as genai\n",
        "from google.colab import userdata\n",
        "\n",
        "genai.configure(api_key=userdata.get('API_KEY'))\n",
        "\n",
        "# Path to your images folder in Drive ('MyDrive' is root)\n",
        "defaultPath = '/content/gdrive/MyDrive/Plants/'\n",
        "\n",
        "generation_config = {\n",
        "  \"temperature\": 0.5,\n",
        "}\n",
        "\n",
        "system_instruction = \"aja como um grande paisagista e especialista em plantas e flores e identifique possíveis cuidados para as fotos de plantas inseridas.\\n\\nalém de ajudar com como cuidar, analise possíveis problemas que a planta aparenta ter como doenças, excesso de água (ou falta), falta de sol e etc.\\n\\nresponda sempre em português do Brasil\"\n",
        "\n",
        "model = genai.GenerativeModel(model_name=\"gemini-1.5-pro-latest\",\n",
        "                              generation_config=generation_config,\n",
        "                              system_instruction=system_instruction)\n",
        "\n",
        "chat = model.start_chat(history=[])\n",
        "\n",
        "print('----------------------------------')\n",
        "print('   Caring For My Plants')\n",
        "print('----------------------------------\\n\\n')\n",
        "\n",
        "fileName = input('Image name: ')\n",
        "\n",
        "fullPath = defaultPath + fileName\n",
        "\n",
        "uploadResponse = genai.upload_file(fullPath)\n",
        "\n",
        "response = chat.send_message(uploadResponse)\n",
        "\n",
        "print('\\n\\n')\n",
        "\n",
        "print(response.text)"
      ],
      "metadata": {
        "id": "uvbyQt04CTiI"
      },
      "execution_count": null,
      "outputs": []
    }
  ]
}